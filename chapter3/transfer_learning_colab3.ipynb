{
 "cells": [
  {
   "cell_type": "markdown",
   "metadata": {
    "id": "Y5EA_G8wsF0E"
   },
   "source": [
    "https://notebook.community/google/eng-edu/ml/pc/exercises/image_classification_part3"
   ]
  },
  {
   "cell_type": "code",
   "execution_count": 1,
   "metadata": {
    "id": "dOBnrwbMsB-C"
   },
   "outputs": [],
   "source": [
    "import os\n",
    "\n",
    "from tensorflow.keras import layers\n",
    "from tensorflow.keras import Model"
   ]
  },
  {
   "cell_type": "code",
   "execution_count": 3,
   "metadata": {
    "colab": {
     "base_uri": "https://localhost:8080/"
    },
    "id": "1hFaeIV-sGjU",
    "outputId": "dfa8ec02-f711-48bb-d1dd-e6bc1fcdface"
   },
   "outputs": [
    {
     "name": "stdout",
     "output_type": "stream",
     "text": [
      "--2023-05-02 23:11:06--  https://storage.googleapis.com/mledu-datasets/inception_v3_weights_tf_dim_ordering_tf_kernels_notop.h5\n",
      "Resolving storage.googleapis.com (storage.googleapis.com)... 172.217.25.176, 142.250.76.144, 142.250.206.208, ...\n",
      "Connecting to storage.googleapis.com (storage.googleapis.com)|172.217.25.176|:443... connected.\n",
      "HTTP request sent, awaiting response... 200 OK\n",
      "Length: 87910968 (84M) [application/x-hdf]\n",
      "Saving to: '/tmp/inception_v3_weights_tf_dim_ordering_tf_kernels_notop.h5'\n",
      "\n",
      "/tmp/inception_v3_w 100%[===================>]  83.84M  11.0MB/s    in 7.4s    \n",
      "\n",
      "2023-05-02 23:11:14 (11.3 MB/s) - '/tmp/inception_v3_weights_tf_dim_ordering_tf_kernels_notop.h5' saved [87910968/87910968]\n",
      "\n"
     ]
    }
   ],
   "source": [
    "!wget --no-check-certificate \\\n",
    "    https://storage.googleapis.com/mledu-datasets/inception_v3_weights_tf_dim_ordering_tf_kernels_notop.h5 \\\n",
    "    -O ./inception_v3_weights_tf_dim_ordering_tf_kernels_notop.h5"
   ]
  },
  {
   "cell_type": "code",
   "execution_count": 3,
   "metadata": {
    "id": "ldK7YDjdsLuL"
   },
   "outputs": [],
   "source": [
    "from tensorflow.keras.applications.inception_v3 import InceptionV3\n",
    "\n",
    "local_weights_file = '/tmp/inception_v3_weights_tf_dim_ordering_tf_kernels_notop.h5'\n",
    "pre_trained_model = InceptionV3(\n",
    "    input_shape=(150, 150, 3), include_top=False, weights=None)\n",
    "pre_trained_model.load_weights(local_weights_file)"
   ]
  },
  {
   "cell_type": "code",
   "execution_count": 4,
   "metadata": {
    "id": "tQDBTpyksRrq"
   },
   "outputs": [],
   "source": [
    "for layer in pre_trained_model.layers:\n",
    "  layer.trainable = False"
   ]
  },
  {
   "cell_type": "code",
   "execution_count": 5,
   "metadata": {
    "colab": {
     "base_uri": "https://localhost:8080/"
    },
    "id": "8jZCXTHfsYbY",
    "outputId": "a831eac5-4e24-4013-a596-1e56bddd4c61"
   },
   "outputs": [
    {
     "name": "stdout",
     "output_type": "stream",
     "text": [
      "last layer output shape: (None, 7, 7, 768)\n"
     ]
    }
   ],
   "source": [
    "last_layer = pre_trained_model.get_layer('mixed7')\n",
    "print('last layer output shape:', last_layer.output_shape)\n",
    "last_output = last_layer.output"
   ]
  },
  {
   "cell_type": "code",
   "execution_count": 6,
   "metadata": {
    "colab": {
     "base_uri": "https://localhost:8080/"
    },
    "id": "wUIUBfwQsakv",
    "outputId": "d769cacc-349b-4374-b551-de38130272b5"
   },
   "outputs": [
    {
     "name": "stderr",
     "output_type": "stream",
     "text": [
      "WARNING:absl:`lr` is deprecated in Keras optimizer, please use `learning_rate` or use the legacy optimizer, e.g.,tf.keras.optimizers.legacy.RMSprop.\n"
     ]
    }
   ],
   "source": [
    "from tensorflow.keras.optimizers import RMSprop\n",
    "\n",
    "# Flatten the output layer to 1 dimension\n",
    "x = layers.Flatten()(last_output)\n",
    "# Add a fully connected layer with 1,024 hidden units and ReLU activation\n",
    "x = layers.Dense(1024, activation='relu')(x)\n",
    "# Add a dropout rate of 0.2\n",
    "x = layers.Dropout(0.2)(x)\n",
    "# Add a final sigmoid layer for classification\n",
    "x = layers.Dense(1, activation='sigmoid')(x)\n",
    "\n",
    "# Configure and compile the model\n",
    "model = Model(pre_trained_model.input, x)\n",
    "model.compile(loss='binary_crossentropy',\n",
    "              optimizer=RMSprop(lr=0.0001),\n",
    "              metrics=['acc'])"
   ]
  },
  {
   "cell_type": "code",
   "execution_count": 7,
   "metadata": {
    "colab": {
     "base_uri": "https://localhost:8080/"
    },
    "id": "o7hWERM3sdiM",
    "outputId": "cab84ff4-66bd-44e9-870b-dce74a82cff6"
   },
   "outputs": [
    {
     "name": "stdout",
     "output_type": "stream",
     "text": [
      "--2023-05-02 13:41:07--  https://storage.googleapis.com/mledu-datasets/cats_and_dogs_filtered.zip\n",
      "Resolving storage.googleapis.com (storage.googleapis.com)... 142.251.16.128, 142.251.163.128, 142.251.167.128, ...\n",
      "Connecting to storage.googleapis.com (storage.googleapis.com)|142.251.16.128|:443... connected.\n",
      "HTTP request sent, awaiting response... 200 OK\n",
      "Length: 68606236 (65M) [application/zip]\n",
      "Saving to: ‘/tmp/cats_and_dogs_filtered.zip’\n",
      "\n",
      "/tmp/cats_and_dogs_ 100%[===================>]  65.43M   162MB/s    in 0.4s    \n",
      "\n",
      "2023-05-02 13:41:08 (162 MB/s) - ‘/tmp/cats_and_dogs_filtered.zip’ saved [68606236/68606236]\n",
      "\n"
     ]
    }
   ],
   "source": [
    "!wget --no-check-certificate \\\n",
    "   https://storage.googleapis.com/mledu-datasets/cats_and_dogs_filtered.zip -O \\\n",
    "   /tmp/cats_and_dogs_filtered.zip"
   ]
  },
  {
   "cell_type": "code",
   "execution_count": 8,
   "metadata": {
    "colab": {
     "base_uri": "https://localhost:8080/"
    },
    "id": "FCztmj3csgci",
    "outputId": "90475f33-cd65-4944-db51-b8216b6c4545"
   },
   "outputs": [
    {
     "name": "stdout",
     "output_type": "stream",
     "text": [
      "Found 2000 images belonging to 2 classes.\n",
      "Found 1000 images belonging to 2 classes.\n"
     ]
    }
   ],
   "source": [
    "import os\n",
    "import zipfile\n",
    "\n",
    "from tensorflow.keras.preprocessing.image import ImageDataGenerator\n",
    "\n",
    "local_zip = '/tmp/cats_and_dogs_filtered.zip'\n",
    "zip_ref = zipfile.ZipFile(local_zip, 'r')\n",
    "zip_ref.extractall('/tmp')\n",
    "zip_ref.close()\n",
    "\n",
    "# Define our example directories and files\n",
    "base_dir = '/tmp/cats_and_dogs_filtered'\n",
    "train_dir = os.path.join(base_dir, 'train')\n",
    "validation_dir = os.path.join(base_dir, 'validation')\n",
    "\n",
    "# Directory with our training cat pictures\n",
    "train_cats_dir = os.path.join(train_dir, 'cats')\n",
    "\n",
    "# Directory with our training dog pictures\n",
    "train_dogs_dir = os.path.join(train_dir, 'dogs')\n",
    "\n",
    "# Directory with our validation cat pictures\n",
    "validation_cats_dir = os.path.join(validation_dir, 'cats')\n",
    "\n",
    "# Directory with our validation dog pictures\n",
    "validation_dogs_dir = os.path.join(validation_dir, 'dogs')\n",
    "\n",
    "train_cat_fnames = os.listdir(train_cats_dir)\n",
    "train_dog_fnames = os.listdir(train_dogs_dir)\n",
    "\n",
    "# Add our data-augmentation parameters to ImageDataGenerator\n",
    "train_datagen = ImageDataGenerator(\n",
    "    rescale=1./255,\n",
    "    rotation_range=40,\n",
    "    width_shift_range=0.2,\n",
    "    height_shift_range=0.2,\n",
    "    shear_range=0.2,\n",
    "    zoom_range=0.2,\n",
    "    horizontal_flip=True)\n",
    "\n",
    "# Note that the validation data should not be augmented!\n",
    "val_datagen = ImageDataGenerator(rescale=1./255)\n",
    "\n",
    "train_generator = train_datagen.flow_from_directory(\n",
    "        train_dir, # This is the source directory for training images\n",
    "        target_size=(150, 150),  # All images will be resized to 150x150\n",
    "        batch_size=20,\n",
    "        # Since we use binary_crossentropy loss, we need binary labels\n",
    "        class_mode='binary')\n",
    "\n",
    "# Flow validation images in batches of 20 using val_datagen generator\n",
    "validation_generator = val_datagen.flow_from_directory(\n",
    "        validation_dir,\n",
    "        target_size=(150, 150),\n",
    "        batch_size=20,\n",
    "        class_mode='binary')\n"
   ]
  },
  {
   "cell_type": "code",
   "execution_count": 9,
   "metadata": {
    "colab": {
     "base_uri": "https://localhost:8080/"
    },
    "id": "yQwYKcplsstY",
    "outputId": "4cf326f1-ff25-4f0b-f450-4da2cafd7280"
   },
   "outputs": [
    {
     "name": "stderr",
     "output_type": "stream",
     "text": [
      "<ipython-input-9-223274cfaaff>:1: UserWarning: `Model.fit_generator` is deprecated and will be removed in a future version. Please use `Model.fit`, which supports generators.\n",
      "  history = model.fit_generator(\n"
     ]
    },
    {
     "name": "stdout",
     "output_type": "stream",
     "text": [
      "Epoch 1/2\n",
      "100/100 - 32s - loss: 0.9177 - acc: 0.8320 - val_loss: 0.1552 - val_acc: 0.9390 - 32s/epoch - 316ms/step\n",
      "Epoch 2/2\n",
      "100/100 - 18s - loss: 0.2526 - acc: 0.9045 - val_loss: 0.0989 - val_acc: 0.9590 - 18s/epoch - 183ms/step\n"
     ]
    }
   ],
   "source": [
    "history = model.fit_generator(\n",
    "      train_generator,\n",
    "      steps_per_epoch=100,\n",
    "      epochs=2,\n",
    "      validation_data=validation_generator,\n",
    "      validation_steps=50,\n",
    "      verbose=2)"
   ]
  },
  {
   "cell_type": "code",
   "execution_count": 10,
   "metadata": {
    "colab": {
     "base_uri": "https://localhost:8080/"
    },
    "id": "dYBjSjUZsy6_",
    "outputId": "260c55cb-a9c2-432b-bbca-e652dca5b10f"
   },
   "outputs": [
    {
     "name": "stderr",
     "output_type": "stream",
     "text": [
      "WARNING:absl:`lr` is deprecated in Keras optimizer, please use `learning_rate` or use the legacy optimizer, e.g.,tf.keras.optimizers.legacy.SGD.\n"
     ]
    }
   ],
   "source": [
    "from tensorflow.keras.optimizers import SGD\n",
    "\n",
    "unfreeze = False\n",
    "\n",
    "# Unfreeze all models after \"mixed6\"\n",
    "for layer in pre_trained_model.layers:\n",
    "  if unfreeze:\n",
    "    layer.trainable = True\n",
    "  if layer.name == 'mixed6':\n",
    "    unfreeze = True\n",
    "\n",
    "# As an optimizer, here we will use SGD \n",
    "# with a very low learning rate (0.00001)\n",
    "model.compile(loss='binary_crossentropy',\n",
    "              optimizer=SGD(\n",
    "                  lr=0.00001, \n",
    "                  momentum=0.9),\n",
    "              metrics=['acc'])"
   ]
  },
  {
   "cell_type": "code",
   "execution_count": 11,
   "metadata": {
    "colab": {
     "base_uri": "https://localhost:8080/"
    },
    "id": "lmW0QL_HtCza",
    "outputId": "cd3834d5-2499-4913-d797-503b9acd21b2"
   },
   "outputs": [
    {
     "name": "stdout",
     "output_type": "stream",
     "text": [
      "Epoch 1/50\n"
     ]
    },
    {
     "name": "stderr",
     "output_type": "stream",
     "text": [
      "<ipython-input-11-cc858d536531>:1: UserWarning: `Model.fit_generator` is deprecated and will be removed in a future version. Please use `Model.fit`, which supports generators.\n",
      "  history = model.fit_generator(\n"
     ]
    },
    {
     "name": "stdout",
     "output_type": "stream",
     "text": [
      "100/100 - 33s - loss: 0.2183 - acc: 0.9130 - val_loss: 0.1580 - val_acc: 0.9460 - 33s/epoch - 331ms/step\n",
      "Epoch 2/50\n",
      "100/100 - 19s - loss: 0.1651 - acc: 0.9330 - val_loss: 0.1891 - val_acc: 0.9410 - 19s/epoch - 185ms/step\n",
      "Epoch 3/50\n",
      "100/100 - 20s - loss: 0.1534 - acc: 0.9340 - val_loss: 0.0919 - val_acc: 0.9600 - 20s/epoch - 197ms/step\n",
      "Epoch 4/50\n",
      "100/100 - 19s - loss: 0.1163 - acc: 0.9500 - val_loss: 0.0850 - val_acc: 0.9730 - 19s/epoch - 190ms/step\n",
      "Epoch 5/50\n",
      "100/100 - 19s - loss: 0.1158 - acc: 0.9590 - val_loss: 0.0917 - val_acc: 0.9650 - 19s/epoch - 187ms/step\n",
      "Epoch 6/50\n",
      "100/100 - 20s - loss: 0.1123 - acc: 0.9590 - val_loss: 0.1558 - val_acc: 0.9470 - 20s/epoch - 195ms/step\n",
      "Epoch 7/50\n",
      "100/100 - 19s - loss: 0.0994 - acc: 0.9595 - val_loss: 0.0928 - val_acc: 0.9660 - 19s/epoch - 186ms/step\n",
      "Epoch 8/50\n",
      "100/100 - 19s - loss: 0.0809 - acc: 0.9735 - val_loss: 0.1569 - val_acc: 0.9530 - 19s/epoch - 194ms/step\n",
      "Epoch 9/50\n",
      "100/100 - 19s - loss: 0.0844 - acc: 0.9705 - val_loss: 0.0815 - val_acc: 0.9680 - 19s/epoch - 188ms/step\n",
      "Epoch 10/50\n",
      "100/100 - 19s - loss: 0.0801 - acc: 0.9695 - val_loss: 0.1025 - val_acc: 0.9590 - 19s/epoch - 194ms/step\n",
      "Epoch 11/50\n",
      "100/100 - 21s - loss: 0.0800 - acc: 0.9715 - val_loss: 0.0982 - val_acc: 0.9630 - 21s/epoch - 207ms/step\n",
      "Epoch 12/50\n",
      "100/100 - 21s - loss: 0.0916 - acc: 0.9610 - val_loss: 0.1183 - val_acc: 0.9560 - 21s/epoch - 207ms/step\n",
      "Epoch 13/50\n",
      "100/100 - 20s - loss: 0.0667 - acc: 0.9750 - val_loss: 0.0780 - val_acc: 0.9680 - 20s/epoch - 196ms/step\n",
      "Epoch 14/50\n",
      "100/100 - 21s - loss: 0.0690 - acc: 0.9725 - val_loss: 0.1054 - val_acc: 0.9680 - 21s/epoch - 206ms/step\n",
      "Epoch 15/50\n",
      "100/100 - 19s - loss: 0.0604 - acc: 0.9760 - val_loss: 0.0820 - val_acc: 0.9720 - 19s/epoch - 187ms/step\n",
      "Epoch 16/50\n",
      "100/100 - 19s - loss: 0.0561 - acc: 0.9780 - val_loss: 0.1374 - val_acc: 0.9550 - 19s/epoch - 194ms/step\n",
      "Epoch 17/50\n",
      "100/100 - 19s - loss: 0.0555 - acc: 0.9785 - val_loss: 0.1868 - val_acc: 0.9440 - 19s/epoch - 186ms/step\n",
      "Epoch 18/50\n",
      "100/100 - 20s - loss: 0.0634 - acc: 0.9770 - val_loss: 0.0836 - val_acc: 0.9740 - 20s/epoch - 197ms/step\n",
      "Epoch 19/50\n",
      "100/100 - 21s - loss: 0.0461 - acc: 0.9825 - val_loss: 0.1700 - val_acc: 0.9600 - 21s/epoch - 207ms/step\n",
      "Epoch 20/50\n",
      "100/100 - 19s - loss: 0.0670 - acc: 0.9770 - val_loss: 0.1158 - val_acc: 0.9630 - 19s/epoch - 186ms/step\n",
      "Epoch 21/50\n",
      "100/100 - 20s - loss: 0.0409 - acc: 0.9835 - val_loss: 0.1092 - val_acc: 0.9730 - 20s/epoch - 197ms/step\n",
      "Epoch 22/50\n",
      "100/100 - 19s - loss: 0.0319 - acc: 0.9880 - val_loss: 0.1056 - val_acc: 0.9740 - 19s/epoch - 194ms/step\n",
      "Epoch 23/50\n",
      "100/100 - 19s - loss: 0.0302 - acc: 0.9875 - val_loss: 0.1457 - val_acc: 0.9670 - 19s/epoch - 186ms/step\n",
      "Epoch 24/50\n",
      "100/100 - 19s - loss: 0.0391 - acc: 0.9865 - val_loss: 0.0860 - val_acc: 0.9760 - 19s/epoch - 194ms/step\n",
      "Epoch 25/50\n",
      "100/100 - 19s - loss: 0.0378 - acc: 0.9865 - val_loss: 0.0995 - val_acc: 0.9690 - 19s/epoch - 187ms/step\n",
      "Epoch 26/50\n",
      "100/100 - 20s - loss: 0.0353 - acc: 0.9895 - val_loss: 0.1016 - val_acc: 0.9710 - 20s/epoch - 195ms/step\n",
      "Epoch 27/50\n",
      "100/100 - 19s - loss: 0.0357 - acc: 0.9890 - val_loss: 0.1833 - val_acc: 0.9480 - 19s/epoch - 185ms/step\n",
      "Epoch 28/50\n",
      "100/100 - 19s - loss: 0.0318 - acc: 0.9880 - val_loss: 0.1044 - val_acc: 0.9720 - 19s/epoch - 194ms/step\n",
      "Epoch 29/50\n",
      "100/100 - 19s - loss: 0.0351 - acc: 0.9870 - val_loss: 0.1215 - val_acc: 0.9620 - 19s/epoch - 187ms/step\n",
      "Epoch 30/50\n",
      "100/100 - 19s - loss: 0.0334 - acc: 0.9870 - val_loss: 0.1185 - val_acc: 0.9610 - 19s/epoch - 187ms/step\n",
      "Epoch 31/50\n",
      "100/100 - 20s - loss: 0.0388 - acc: 0.9870 - val_loss: 0.1171 - val_acc: 0.9660 - 20s/epoch - 196ms/step\n",
      "Epoch 32/50\n",
      "100/100 - 19s - loss: 0.0269 - acc: 0.9895 - val_loss: 0.1158 - val_acc: 0.9660 - 19s/epoch - 187ms/step\n",
      "Epoch 33/50\n",
      "100/100 - 19s - loss: 0.0349 - acc: 0.9895 - val_loss: 0.1059 - val_acc: 0.9690 - 19s/epoch - 186ms/step\n",
      "Epoch 34/50\n",
      "100/100 - 20s - loss: 0.0336 - acc: 0.9900 - val_loss: 0.1552 - val_acc: 0.9580 - 20s/epoch - 195ms/step\n",
      "Epoch 35/50\n",
      "100/100 - 19s - loss: 0.0318 - acc: 0.9860 - val_loss: 0.1143 - val_acc: 0.9690 - 19s/epoch - 187ms/step\n",
      "Epoch 36/50\n",
      "100/100 - 19s - loss: 0.0288 - acc: 0.9925 - val_loss: 0.1114 - val_acc: 0.9670 - 19s/epoch - 193ms/step\n",
      "Epoch 37/50\n",
      "100/100 - 19s - loss: 0.0279 - acc: 0.9875 - val_loss: 0.1042 - val_acc: 0.9710 - 19s/epoch - 187ms/step\n",
      "Epoch 38/50\n",
      "100/100 - 19s - loss: 0.0290 - acc: 0.9905 - val_loss: 0.1155 - val_acc: 0.9660 - 19s/epoch - 192ms/step\n",
      "Epoch 39/50\n",
      "100/100 - 21s - loss: 0.0218 - acc: 0.9925 - val_loss: 0.1966 - val_acc: 0.9520 - 21s/epoch - 205ms/step\n",
      "Epoch 40/50\n",
      "100/100 - 19s - loss: 0.0197 - acc: 0.9945 - val_loss: 0.1481 - val_acc: 0.9700 - 19s/epoch - 186ms/step\n",
      "Epoch 41/50\n",
      "100/100 - 19s - loss: 0.0223 - acc: 0.9920 - val_loss: 0.1731 - val_acc: 0.9630 - 19s/epoch - 194ms/step\n",
      "Epoch 42/50\n",
      "100/100 - 19s - loss: 0.0272 - acc: 0.9900 - val_loss: 0.1352 - val_acc: 0.9650 - 19s/epoch - 185ms/step\n",
      "Epoch 43/50\n",
      "100/100 - 20s - loss: 0.0305 - acc: 0.9905 - val_loss: 0.1221 - val_acc: 0.9690 - 20s/epoch - 196ms/step\n",
      "Epoch 44/50\n",
      "100/100 - 19s - loss: 0.0221 - acc: 0.9885 - val_loss: 0.1232 - val_acc: 0.9750 - 19s/epoch - 185ms/step\n",
      "Epoch 45/50\n",
      "100/100 - 19s - loss: 0.0209 - acc: 0.9920 - val_loss: 0.1092 - val_acc: 0.9730 - 19s/epoch - 193ms/step\n",
      "Epoch 46/50\n",
      "100/100 - 21s - loss: 0.0292 - acc: 0.9875 - val_loss: 0.0993 - val_acc: 0.9760 - 21s/epoch - 206ms/step\n",
      "Epoch 47/50\n",
      "100/100 - 19s - loss: 0.0298 - acc: 0.9915 - val_loss: 0.1040 - val_acc: 0.9760 - 19s/epoch - 185ms/step\n",
      "Epoch 48/50\n",
      "100/100 - 19s - loss: 0.0252 - acc: 0.9900 - val_loss: 0.1031 - val_acc: 0.9750 - 19s/epoch - 193ms/step\n",
      "Epoch 49/50\n",
      "100/100 - 19s - loss: 0.0187 - acc: 0.9920 - val_loss: 0.0939 - val_acc: 0.9750 - 19s/epoch - 186ms/step\n",
      "Epoch 50/50\n",
      "100/100 - 20s - loss: 0.0178 - acc: 0.9945 - val_loss: 0.1382 - val_acc: 0.9620 - 20s/epoch - 196ms/step\n"
     ]
    }
   ],
   "source": [
    "history = model.fit_generator(\n",
    "      train_generator,\n",
    "      steps_per_epoch=100,\n",
    "      epochs=50,\n",
    "      validation_data=validation_generator,\n",
    "      validation_steps=50,\n",
    "      verbose=2)"
   ]
  },
  {
   "cell_type": "code",
   "execution_count": 12,
   "metadata": {
    "colab": {
     "base_uri": "https://localhost:8080/",
     "height": 924
    },
    "id": "d-7mii84tGx8",
    "outputId": "e7fcc199-faab-46fd-acf4-228b2f4716bd"
   },
   "outputs": [
    {
     "data": {
      "text/plain": [
       "Text(0.5, 1.0, 'Training and validation loss')"
      ]
     },
     "execution_count": 12,
     "metadata": {},
     "output_type": "execute_result"
    },
    {
     "data": {
      "image/png": "[encoded data removed]",
      "text/plain": [
       "<Figure size 640x480 with 1 Axes>"
      ]
     },
     "metadata": {},
     "output_type": "display_data"
    },
    {
     "data": {
      "image/png": "[encoded data removed]",
      "text/plain": [
       "<Figure size 640x480 with 1 Axes>"
      ]
     },
     "metadata": {},
     "output_type": "display_data"
    }
   ],
   "source": [
    "%matplotlib inline\n",
    "\n",
    "import matplotlib.pyplot as plt\n",
    "import matplotlib.image as mpimg\n",
    "\n",
    "# Retrieve a list of accuracy results on training and validation data\n",
    "# sets for each training epoch\n",
    "acc = history.history['acc']\n",
    "val_acc = history.history['val_acc']\n",
    "\n",
    "# Retrieve a list of list results on training and validation data\n",
    "# sets for each training epoch\n",
    "loss = history.history['loss']\n",
    "val_loss = history.history['val_loss']\n",
    "\n",
    "# Get number of epochs\n",
    "epochs = range(len(acc))\n",
    "\n",
    "# Plot training and validation accuracy per epoch\n",
    "plt.plot(epochs, acc)\n",
    "plt.plot(epochs, val_acc)\n",
    "plt.title('Training and validation accuracy')\n",
    "\n",
    "plt.figure()\n",
    "\n",
    "# Plot training and validation loss per epoch\n",
    "plt.plot(epochs, loss)\n",
    "plt.plot(epochs, val_loss)\n",
    "plt.title('Training and validation loss')"
   ]
  },
  {
   "cell_type": "code",
   "execution_count": 14,
   "metadata": {
    "colab": {
     "base_uri": "https://localhost:8080/",
     "height": 951
    },
    "id": "Xa48uXz4w7vR",
    "outputId": "8b54f834-6880-4a11-aa1a-fd8a790f0ad3"
   },
   "outputs": [
    {
     "data": {
      "text/html": [
       "\n",
       "     <input type=\"file\" id=\"files-d083f5d3-129d-4684-a920-58ea6d692347\" name=\"files[]\" multiple disabled\n",
       "        style=\"border:none\" />\n",
       "     <output id=\"result-d083f5d3-129d-4684-a920-58ea6d692347\">\n",
       "      Upload widget is only available when the cell has been executed in the\n",
       "      current browser session. Please rerun this cell to enable.\n",
       "      </output>\n",
       "      <script>// Copyright 2017 Google LLC\n",
       "//\n",
       "// Licensed under the Apache License, Version 2.0 (the \"License\");\n",
       "// you may not use this file except in compliance with the License.\n",
       "// You may obtain a copy of the License at\n",
       "//\n",
       "//      http://www.apache.org/licenses/LICENSE-2.0\n",
       "//\n",
       "// Unless required by applicable law or agreed to in writing, software\n",
       "// distributed under the License is distributed on an \"AS IS\" BASIS,\n",
       "// WITHOUT WARRANTIES OR CONDITIONS OF ANY KIND, either express or implied.\n",
       "// See the License for the specific language governing permissions and\n",
       "// limitations under the License.\n",
       "\n",
       "/**\n",
       " * @fileoverview Helpers for google.colab Python module.\n",
       " */\n",
       "(function(scope) {\n",
       "function span(text, styleAttributes = {}) {\n",
       "  const element = document.createElement('span');\n",
       "  element.textContent = text;\n",
       "  for (const key of Object.keys(styleAttributes)) {\n",
       "    element.style[key] = styleAttributes[key];\n",
       "  }\n",
       "  return element;\n",
       "}\n",
       "\n",
       "// Max number of bytes which will be uploaded at a time.\n",
       "const MAX_PAYLOAD_SIZE = 100 * 1024;\n",
       "\n",
       "function _uploadFiles(inputId, outputId) {\n",
       "  const steps = uploadFilesStep(inputId, outputId);\n",
       "  const outputElement = document.getElementById(outputId);\n",
       "  // Cache steps on the outputElement to make it available for the next call\n",
       "  // to uploadFilesContinue from Python.\n",
       "  outputElement.steps = steps;\n",
       "\n",
       "  return _uploadFilesContinue(outputId);\n",
       "}\n",
       "\n",
       "// This is roughly an async generator (not supported in the browser yet),\n",
       "// where there are multiple asynchronous steps and the Python side is going\n",
       "// to poll for completion of each step.\n",
       "// This uses a Promise to block the python side on completion of each step,\n",
       "// then passes the result of the previous step as the input to the next step.\n",
       "function _uploadFilesContinue(outputId) {\n",
       "  const outputElement = document.getElementById(outputId);\n",
       "  const steps = outputElement.steps;\n",
       "\n",
       "  const next = steps.next(outputElement.lastPromiseValue);\n",
       "  return Promise.resolve(next.value.promise).then((value) => {\n",
       "    // Cache the last promise value to make it available to the next\n",
       "    // step of the generator.\n",
       "    outputElement.lastPromiseValue = value;\n",
       "    return next.value.response;\n",
       "  });\n",
       "}\n",
       "\n",
       "/**\n",
       " * Generator function which is called between each async step of the upload\n",
       " * process.\n",
       " * @param {string} inputId Element ID of the input file picker element.\n",
       " * @param {string} outputId Element ID of the output display.\n",
       " * @return {!Iterable<!Object>} Iterable of next steps.\n",
       " */\n",
       "function* uploadFilesStep(inputId, outputId) {\n",
       "  const inputElement = document.getElementById(inputId);\n",
       "  inputElement.disabled = false;\n",
       "\n",
       "  const outputElement = document.getElementById(outputId);\n",
       "  outputElement.innerHTML = '';\n",
       "\n",
       "  const pickedPromise = new Promise((resolve) => {\n",
       "    inputElement.addEventListener('change', (e) => {\n",
       "      resolve(e.target.files);\n",
       "    });\n",
       "  });\n",
       "\n",
       "  const cancel = document.createElement('button');\n",
       "  inputElement.parentElement.appendChild(cancel);\n",
       "  cancel.textContent = 'Cancel upload';\n",
       "  const cancelPromise = new Promise((resolve) => {\n",
       "    cancel.onclick = () => {\n",
       "      resolve(null);\n",
       "    };\n",
       "  });\n",
       "\n",
       "  // Wait for the user to pick the files.\n",
       "  const files = yield {\n",
       "    promise: Promise.race([pickedPromise, cancelPromise]),\n",
       "    response: {\n",
       "      action: 'starting',\n",
       "    }\n",
       "  };\n",
       "\n",
       "  cancel.remove();\n",
       "\n",
       "  // Disable the input element since further picks are not allowed.\n",
       "  inputElement.disabled = true;\n",
       "\n",
       "  if (!files) {\n",
       "    return {\n",
       "      response: {\n",
       "        action: 'complete',\n",
       "      }\n",
       "    };\n",
       "  }\n",
       "\n",
       "  for (const file of files) {\n",
       "    const li = document.createElement('li');\n",
       "    li.append(span(file.name, {fontWeight: 'bold'}));\n",
       "    li.append(span(\n",
       "        `(${file.type || 'n/a'}) - ${file.size} bytes, ` +\n",
       "        `last modified: ${\n",
       "            file.lastModifiedDate ? file.lastModifiedDate.toLocaleDateString() :\n",
       "                                    'n/a'} - `));\n",
       "    const percent = span('0% done');\n",
       "    li.appendChild(percent);\n",
       "\n",
       "    outputElement.appendChild(li);\n",
       "\n",
       "    const fileDataPromise = new Promise((resolve) => {\n",
       "      const reader = new FileReader();\n",
       "      reader.onload = (e) => {\n",
       "        resolve(e.target.result);\n",
       "      };\n",
       "      reader.readAsArrayBuffer(file);\n",
       "    });\n",
       "    // Wait for the data to be ready.\n",
       "    let fileData = yield {\n",
       "      promise: fileDataPromise,\n",
       "      response: {\n",
       "        action: 'continue',\n",
       "      }\n",
       "    };\n",
       "\n",
       "    // Use a chunked sending to avoid message size limits. See b/62115660.\n",
       "    let position = 0;\n",
       "    do {\n",
       "      const length = Math.min(fileData.byteLength - position, MAX_PAYLOAD_SIZE);\n",
       "      const chunk = new Uint8Array(fileData, position, length);\n",
       "      position += length;\n",
       "\n",
       "      const base64 = btoa(String.fromCharCode.apply(null, chunk));\n",
       "      yield {\n",
       "        response: {\n",
       "          action: 'append',\n",
       "          file: file.name,\n",
       "          data: base64,\n",
       "        },\n",
       "      };\n",
       "\n",
       "      let percentDone = fileData.byteLength === 0 ?\n",
       "          100 :\n",
       "          Math.round((position / fileData.byteLength) * 100);\n",
       "      percent.textContent = `${percentDone}% done`;\n",
       "\n",
       "    } while (position < fileData.byteLength);\n",
       "  }\n",
       "\n",
       "  // All done.\n",
       "  yield {\n",
       "    response: {\n",
       "      action: 'complete',\n",
       "    }\n",
       "  };\n",
       "}\n",
       "\n",
       "scope.google = scope.google || {};\n",
       "scope.google.colab = scope.google.colab || {};\n",
       "scope.google.colab._files = {\n",
       "  _uploadFiles,\n",
       "  _uploadFilesContinue,\n",
       "};\n",
       "})(self);\n",
       "</script> "
      ],
      "text/plain": [
       "<IPython.core.display.HTML object>"
      ]
     },
     "metadata": {},
     "output_type": "display_data"
    },
    {
     "name": "stdout",
     "output_type": "stream",
     "text": [
      "Saving 01_beautiful-maine-coon-cat-young.jpg to 01_beautiful-maine-coon-cat-young (1).jpg\n",
      "Saving 1.jpg to 1 (1).jpg\n",
      "Saving 100.jpg to 100 (1).jpg\n",
      "Saving 20230221-10036196-it_nlab-000-1-view.jpg to 20230221-10036196-it_nlab-000-1-view (1).jpg\n",
      "Saving GettyImages-1040920528-scaled.jpg to GettyImages-1040920528-scaled (1).jpg\n",
      "Saving img_afa0fad37e6c4d5ce34c01faf54f9e79108563.jpg to img_afa0fad37e6c4d5ce34c01faf54f9e79108563 (1).jpg\n",
      "Saving mainecoon_1-740x429.jpg to mainecoon_1-740x429 (1).jpg\n",
      "Saving wolf-2826741__480.jpg to wolf-2826741__480 (1).jpg\n",
      "Saving Wolf.jpg to Wolf (1).jpg\n",
      "1/1 [==============================] - 2s 2s/step\n",
      "[[1.]]\n",
      "[1.]\n",
      "01_beautiful-maine-coon-cat-young.jpg is a dog\n",
      "1/1 [==============================] - 0s 24ms/step\n",
      "[[0.01182911]]\n",
      "[0.01182911]\n",
      "1.jpg is a cat\n",
      "1/1 [==============================] - 0s 23ms/step\n",
      "[[2.8189392e-32]]\n",
      "[2.8189392e-32]\n",
      "100.jpg is a cat\n",
      "1/1 [==============================] - 0s 28ms/step\n",
      "[[0.]]\n",
      "[0.]\n",
      "20230221-10036196-it_nlab-000-1-view.jpg is a cat\n",
      "1/1 [==============================] - 0s 24ms/step\n",
      "[[1.]]\n",
      "[1.]\n",
      "GettyImages-1040920528-scaled.jpg is a dog\n",
      "1/1 [==============================] - 0s 23ms/step\n",
      "[[1.7423499e-34]]\n",
      "[1.7423499e-34]\n",
      "img_afa0fad37e6c4d5ce34c01faf54f9e79108563.jpg is a cat\n",
      "1/1 [==============================] - 0s 23ms/step\n",
      "[[1.2543188e-12]]\n",
      "[1.2543188e-12]\n",
      "mainecoon_1-740x429.jpg is a cat\n",
      "1/1 [==============================] - 0s 22ms/step\n",
      "[[1.]]\n",
      "[1.]\n",
      "wolf-2826741__480.jpg is a dog\n",
      "1/1 [==============================] - 0s 23ms/step\n",
      "[[5.64273e-18]]\n",
      "[5.64273e-18]\n",
      "Wolf.jpg is a cat\n"
     ]
    }
   ],
   "source": [
    "import numpy as np\n",
    "from google.colab import files\n",
    "#from keras.preprocessing import image\n",
    "import keras.utils as image\n",
    "\n",
    "uploaded = files.upload()\n",
    "\n",
    "for fn in uploaded.keys():\n",
    " \n",
    "  # predicting images\n",
    "  path = '/content/' + fn\n",
    "  img = image.load_img(path, target_size=(150, 150))\n",
    "  x = image.img_to_array(img)\n",
    "  x = np.expand_dims(x, axis=0)\n",
    "\n",
    "  image_tensor = np.vstack([x])\n",
    "  classes = model.predict(image_tensor)\n",
    "  print(classes)\n",
    "  print(classes[0])\n",
    "  if classes[0]>0.5:\n",
    "    print(fn + \" is a dog\")\n",
    "  else:\n",
    "    print(fn + \" is a cat\")"
   ]
  },
  {
   "cell_type": "code",
   "execution_count": null,
   "metadata": {
    "id": "PfX83lOrxO3-"
   },
   "outputs": [],
   "source": []
  }
 ],
 "metadata": {
  "accelerator": "GPU",
  "colab": {
   "gpuType": "T4",
   "provenance": []
  },
  "gpuClass": "standard",
  "kernelspec": {
   "display_name": "Python 3 (ipykernel)",
   "language": "python",
   "name": "python3"
  },
  "language_info": {
   "codemirror_mode": {
    "name": "ipython",
    "version": 3
   },
   "file_extension": ".py",
   "mimetype": "text/x-python",
   "name": "python",
   "nbconvert_exporter": "python",
   "pygments_lexer": "ipython3",
   "version": "3.8.13"
  }
 },
 "nbformat": 4,
 "nbformat_minor": 1
}
